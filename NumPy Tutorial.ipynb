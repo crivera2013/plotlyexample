{
 "cells": [
  {
   "cell_type": "markdown",
   "metadata": {
    "collapsed": true
   },
   "source": [
    "# Python NumPy Tutorial\n",
    "\n",
    "#### Author: Christian Rivera\n",
    "- Github Profile: https://github.com/crivera2013"
   ]
  },
  {
   "cell_type": "markdown",
   "metadata": {},
   "source": [
    "## What is NumPy\n",
    "\n",
    "NumPy is the fundamental package for scientific computing with Python. It contains among other things:\n",
    "- A powerful N-dimensional array object\n",
    "- Sophisticated (broadcasting) functions\n",
    "- Tools for integrating C/C++ and Fortran code (Very Fast Execution!!)\n",
    "- Useful linear algebra, Fourier transform, and random number capabilities\n",
    "\n",
    "![alt text](https://raw.githubusercontent.com/donnemartin/dev-setup-resources/master/res/numpy.png)"
   ]
  },
  {
   "cell_type": "markdown",
   "metadata": {},
   "source": [
    "At its core, NumPy provides homogenous multidimensional array data type (**numpy.array**) that is executed in C/Fortran.  It is the fundamental building block for all Data Analytics, Machine Learning, and AI packages and is how you write your code in Python when optimizing for speed:\n",
    "\n",
    "1. Pandas, the data analytics package that presents data as rows and columns? It is wrapper code built on top of Numpy.\n",
    "2. Input values for Machine Learning?  The only data types allowed are numpy arrays.\n",
    "3. Use GPUs to handle data crunching?  They only accept numpy arrays.\n",
    "\n",
    "## Section 1: NumPy basics\n",
    "Loading the package using the **import** statement and giving **NumPy** the nickname **np**."
   ]
  },
  {
   "cell_type": "code",
   "execution_count": null,
   "metadata": {},
   "outputs": [],
   "source": [
    "import numpy as np\n",
    "\n",
    "a = np.array([1,2,3])\n",
    "\n",
    "print(type(a))\n",
    "print(a)"
   ]
  },
  {
   "cell_type": "markdown",
   "metadata": {},
   "source": [
    "Creating a vector (1-D tensor) is as simple as wrapping a list with the **np.array()** function.  For multidimensional arrays, you use lists of lists."
   ]
  },
  {
   "cell_type": "code",
   "execution_count": null,
   "metadata": {},
   "outputs": [],
   "source": [
    "b = np.array([ [1,2,3], [4,5,6], [7,8,9], [10,15,20] ])\n",
    "print(b)"
   ]
  },
  {
   "cell_type": "markdown",
   "metadata": {},
   "source": [
    "Finding attributes of the multidimensional array"
   ]
  },
  {
   "cell_type": "code",
   "execution_count": null,
   "metadata": {},
   "outputs": [],
   "source": [
    "# give the dimensions of the array\n",
    "print(b.shape)\n",
    "print(\"# of rows for b: %s\" % b.shape[0])\n",
    "print(\"# of columns for b: %s\" % b.shape[1])\n"
   ]
  },
  {
   "cell_type": "code",
   "execution_count": null,
   "metadata": {},
   "outputs": [],
   "source": [
    "# find the datatype of all the values.  They are all the same\n",
    "print(b.dtype.name)"
   ]
  },
  {
   "cell_type": "code",
   "execution_count": null,
   "metadata": {},
   "outputs": [],
   "source": [
    "# find the number individual cells\n",
    "print(b.size)"
   ]
  },
  {
   "cell_type": "code",
   "execution_count": null,
   "metadata": {},
   "outputs": [],
   "source": [
    "# create arrays filled with zeros or ones. \n",
    "# Useful for static sized numpy inputs in machine learning\n",
    "print(np.zeros( (3,4) ) )\n",
    "print(\"\")\n",
    "print(np.ones((4,2)))"
   ]
  },
  {
   "cell_type": "code",
   "execution_count": null,
   "metadata": {},
   "outputs": [],
   "source": [
    "np.empty((2,3))"
   ]
  },
  {
   "cell_type": "code",
   "execution_count": null,
   "metadata": {},
   "outputs": [],
   "source": [
    "# reshape the array\n",
    "print(b.reshape(3,4))\n",
    "print(\"\")\n",
    "print(a.reshape(-1,1))"
   ]
  },
  {
   "cell_type": "code",
   "execution_count": null,
   "metadata": {},
   "outputs": [],
   "source": [
    "# Transpose of the array\n",
    "print( b.T )"
   ]
  },
  {
   "cell_type": "markdown",
   "metadata": {},
   "source": [
    "### To give you a sense of the speed increase in NumPy, see how long summation aggregation takes using the regular \"sum\" function vs \"np.sum\""
   ]
  },
  {
   "cell_type": "code",
   "execution_count": null,
   "metadata": {},
   "outputs": [],
   "source": [
    "# makes the random numbers predictable\n",
    "np.random.seed(5)\n",
    "#########################\n",
    "# create a random array (length 1000) of floats between 0 and 1\n",
    "smallArray = np.random.random(1000)\n",
    "\n",
    "####################\n",
    "print(smallArray[:10])\n",
    "print(smallArray.shape)\n",
    "print(sum(smallArray))\n",
    "print(np.sum(smallArray))"
   ]
  },
  {
   "cell_type": "markdown",
   "metadata": {},
   "source": [
    "**sum** and **np.sum()** apparently do the same thing but how fast to they go about their jobs?"
   ]
  },
  {
   "cell_type": "code",
   "execution_count": null,
   "metadata": {},
   "outputs": [],
   "source": [
    "%timeit sum(smallArray)\n",
    "%timeit np.sum(smallArray)"
   ]
  },
  {
   "cell_type": "markdown",
   "metadata": {},
   "source": [
    "As we can see from the above results, the **NumPy.sum()** function performed the task about 30x faster than the regular **sum()** function."
   ]
  },
  {
   "cell_type": "markdown",
   "metadata": {},
   "source": [
    "### Basic Operations"
   ]
  },
  {
   "cell_type": "code",
   "execution_count": null,
   "metadata": {},
   "outputs": [],
   "source": [
    "# Addition\n",
    "print(7 + a)\n",
    "print(\"\")\n",
    "print(a + np.array([4,5,6]))"
   ]
  },
  {
   "cell_type": "code",
   "execution_count": null,
   "metadata": {},
   "outputs": [],
   "source": [
    "# Subtraction\n",
    "print(a - 7)\n",
    "print(\"\")\n",
    "print(a - np.array([4,5,6]))"
   ]
  },
  {
   "cell_type": "code",
   "execution_count": null,
   "metadata": {},
   "outputs": [],
   "source": [
    "# Multiplication\n",
    "print (a*7)\n",
    "print(\"\")\n",
    "print(a * np.array([4,5,6]))"
   ]
  },
  {
   "cell_type": "code",
   "execution_count": null,
   "metadata": {},
   "outputs": [],
   "source": [
    "# Division\n",
    "print(a / 7)\n",
    "print(\"\")\n",
    "print(a / np.array([4,5,6]))"
   ]
  },
  {
   "cell_type": "code",
   "execution_count": null,
   "metadata": {},
   "outputs": [],
   "source": [
    "# boolean values\n",
    "a > 1"
   ]
  },
  {
   "cell_type": "markdown",
   "metadata": {},
   "source": [
    "## Section 2: Indexing and stacking\n",
    "\n",
    "Remember indexing lists?  Indexing Numpy arrays is the same concept except there are two list indices now instead of one."
   ]
  },
  {
   "cell_type": "code",
   "execution_count": null,
   "metadata": {},
   "outputs": [],
   "source": [
    "print(b)"
   ]
  },
  {
   "cell_type": "code",
   "execution_count": null,
   "metadata": {},
   "outputs": [],
   "source": [
    "# get the 3rd value in the second row\n",
    "# Array[ rowIndex , columnIndex ]\n",
    "b[1 , 2]"
   ]
  },
  {
   "cell_type": "code",
   "execution_count": null,
   "metadata": {},
   "outputs": [],
   "source": [
    "# all values in the first row\n",
    "b[0, :]"
   ]
  },
  {
   "cell_type": "code",
   "execution_count": null,
   "metadata": {},
   "outputs": [],
   "source": [
    "# all values in the second column\n",
    "b[:,1]"
   ]
  },
  {
   "cell_type": "code",
   "execution_count": null,
   "metadata": {},
   "outputs": [],
   "source": [
    "# value in last row and last column\n",
    "b[-1 , -1]"
   ]
  },
  {
   "cell_type": "code",
   "execution_count": null,
   "metadata": {},
   "outputs": [],
   "source": [
    "#last 2 rows with only first two columns\n",
    "b[2:, :-1]"
   ]
  },
  {
   "cell_type": "markdown",
   "metadata": {},
   "source": [
    "### Combining Arrays with Stacking"
   ]
  },
  {
   "cell_type": "code",
   "execution_count": null,
   "metadata": {},
   "outputs": [],
   "source": [
    "print(a)\n",
    "print()\n",
    "print(b)"
   ]
  },
  {
   "cell_type": "code",
   "execution_count": null,
   "metadata": {},
   "outputs": [],
   "source": [
    "# combine arrays by adding rows with vstack\n",
    "print(np.vstack( (b,a) ) )"
   ]
  },
  {
   "cell_type": "code",
   "execution_count": null,
   "metadata": {},
   "outputs": [],
   "source": [
    "# combine arrays by adding columns with hstack\n",
    "c = np.array([21,22,23,24])\n",
    "print(c)\n",
    "print()\n",
    "print( np.column_stack( (b,c.T) ))\n"
   ]
  },
  {
   "cell_type": "markdown",
   "metadata": {},
   "source": [
    "### Filtering"
   ]
  },
  {
   "cell_type": "code",
   "execution_count": null,
   "metadata": {},
   "outputs": [],
   "source": [
    "# return all rows with a values greater than 6 in column 2\n",
    "b[ b[:,2] > 6 ]"
   ]
  },
  {
   "cell_type": "code",
   "execution_count": null,
   "metadata": {},
   "outputs": [],
   "source": [
    "# multiple logical conditions: \"and\" = &\n",
    "\n",
    "b[ (b[:,2]>6) & (b[:,1] < 15) ]"
   ]
  },
  {
   "cell_type": "code",
   "execution_count": null,
   "metadata": {},
   "outputs": [],
   "source": [
    "# multiple logical conditions: \"or\" = |\n",
    "b[ (b[:,2] == 9) | (b[:,1] == 15) ]"
   ]
  },
  {
   "cell_type": "markdown",
   "metadata": {},
   "source": [
    "## Section 3: Advanced Math Functions\n",
    "\n",
    "### Linear Algebra"
   ]
  },
  {
   "cell_type": "code",
   "execution_count": null,
   "metadata": {},
   "outputs": [],
   "source": [
    "# Dot Product\n",
    "print(np.dot(b, a.T))"
   ]
  },
  {
   "cell_type": "code",
   "execution_count": null,
   "metadata": {},
   "outputs": [],
   "source": [
    "# Cross Product\n",
    "np.cross(b,a)"
   ]
  },
  {
   "cell_type": "code",
   "execution_count": null,
   "metadata": {},
   "outputs": [],
   "source": [
    "# Matrix Determinant\n",
    "d = np.array([[-4,5],[2,-3]])\n",
    "\n",
    "np.linalg.det(d)"
   ]
  },
  {
   "cell_type": "code",
   "execution_count": null,
   "metadata": {},
   "outputs": [],
   "source": [
    "# Matrix Inverse\n",
    "e = np.linalg.inv(d)\n",
    "print(e)\n",
    "print()\n",
    "print( np.dot(d,e))"
   ]
  },
  {
   "cell_type": "code",
   "execution_count": null,
   "metadata": {},
   "outputs": [],
   "source": [
    "# eigenvalues and eigenvectors\n",
    "example = np.diag((1,2,3))\n",
    "print(example)"
   ]
  },
  {
   "cell_type": "code",
   "execution_count": null,
   "metadata": {},
   "outputs": [],
   "source": [
    "eigenvalues, eigenvectors = np.linalg.eig(example)\n",
    "print(eigenvalues)\n",
    "print()\n",
    "print(eigenvectors)"
   ]
  },
  {
   "cell_type": "markdown",
   "metadata": {},
   "source": [
    "### Trigonometric Functions"
   ]
  },
  {
   "cell_type": "code",
   "execution_count": null,
   "metadata": {},
   "outputs": [],
   "source": [
    "pi = np.pi\n",
    "print(pi)\n",
    "inputs = np.array([0, pi / 2, pi])"
   ]
  },
  {
   "cell_type": "code",
   "execution_count": null,
   "metadata": {},
   "outputs": [],
   "source": [
    "# sin\n",
    "np.sin(inputs)"
   ]
  },
  {
   "cell_type": "code",
   "execution_count": null,
   "metadata": {},
   "outputs": [],
   "source": [
    "#cos\n",
    "np.cos(inputs)"
   ]
  },
  {
   "cell_type": "markdown",
   "metadata": {},
   "source": [
    "A (non-exclusive) list of math functions can be [found here](https://docs.scipy.org/doc/numpy-1.13.0/reference/routines.math.html) that include:\n",
    "- Trig functions (ex: np.arctan)\n",
    "- Hyperbolic (ex: np.cosh)\n",
    "- Exponents (ex: np.exp)\n",
    "- Logarithms (ex: np.log, np.log10\n",
    "- Complex (ex: np.imj)\n",
    "\n",
    "### Aggregation Functions"
   ]
  },
  {
   "cell_type": "code",
   "execution_count": null,
   "metadata": {},
   "outputs": [],
   "source": [
    "print(b)"
   ]
  },
  {
   "cell_type": "code",
   "execution_count": null,
   "metadata": {},
   "outputs": [],
   "source": [
    "# sum all of the cells\n",
    "b.sum()"
   ]
  },
  {
   "cell_type": "code",
   "execution_count": null,
   "metadata": {},
   "outputs": [],
   "source": [
    "# sum all of the rows\n",
    "b.sum(axis=1)"
   ]
  },
  {
   "cell_type": "code",
   "execution_count": null,
   "metadata": {},
   "outputs": [],
   "source": [
    "# sum all the columns\n",
    "b.sum(axis=0)"
   ]
  },
  {
   "cell_type": "code",
   "execution_count": null,
   "metadata": {},
   "outputs": [],
   "source": [
    "# same for mean\n",
    "print(b.mean())\n",
    "print(b.mean(axis=0))\n",
    "print(b.mean(axis=1))"
   ]
  },
  {
   "cell_type": "code",
   "execution_count": null,
   "metadata": {},
   "outputs": [],
   "source": [
    "# same for standard deviation\n",
    "print(b.std())\n",
    "print(b.std(axis=0))\n",
    "print(b.std(axis=1))"
   ]
  },
  {
   "cell_type": "code",
   "execution_count": null,
   "metadata": {},
   "outputs": [],
   "source": [
    "# min and max\n",
    "print(b.max())\n",
    "print( b.max(axis=0))\n",
    "\n",
    "print( b.min( axis=1))"
   ]
  },
  {
   "cell_type": "code",
   "execution_count": null,
   "metadata": {},
   "outputs": [],
   "source": [
    "# find the index of the minimum and max with argmax and argmin\n",
    "print(b.argmax())\n",
    "print( b.argmax(axis=0))\n",
    "\n",
    "print( b.argmin( axis=1))"
   ]
  },
  {
   "cell_type": "code",
   "execution_count": null,
   "metadata": {},
   "outputs": [],
   "source": [
    "# Pearson product moment correlation coefficient.  Whee correlation \n",
    "example = np.random.rand(50,5)\n",
    "print(np.corrcoef(example.T))"
   ]
  },
  {
   "cell_type": "markdown",
   "metadata": {},
   "source": [
    "### Random Number Generators"
   ]
  },
  {
   "cell_type": "code",
   "execution_count": null,
   "metadata": {
    "collapsed": true
   },
   "outputs": [],
   "source": [
    "# np.random.seed(x) fixes the random inputs to produce the same results everytime for reproducibility\n",
    "np.random.seed(5)"
   ]
  },
  {
   "cell_type": "code",
   "execution_count": null,
   "metadata": {},
   "outputs": [],
   "source": [
    "# random number from a normal distribution\n",
    "np.random.normal()"
   ]
  },
  {
   "cell_type": "code",
   "execution_count": null,
   "metadata": {},
   "outputs": [],
   "source": [
    "# random number array from a normal distribution\n",
    "np.random.normal(size=4)"
   ]
  },
  {
   "cell_type": "code",
   "execution_count": null,
   "metadata": {},
   "outputs": [],
   "source": [
    "# random multidimensional number array from a normal distribution\n",
    "np.random.normal(size=(4,2))"
   ]
  },
  {
   "cell_type": "code",
   "execution_count": null,
   "metadata": {},
   "outputs": [],
   "source": [
    "# Normal Distribution\n",
    "np.random.normal(size=(3,5))\n",
    "\n"
   ]
  },
  {
   "cell_type": "code",
   "execution_count": null,
   "metadata": {},
   "outputs": [],
   "source": [
    "# random integers in a range\n",
    "np.random.randint(low=50, high=125, size=(2,6))\n",
    "\n"
   ]
  },
  {
   "cell_type": "markdown",
   "metadata": {},
   "source": [
    "NumPy has several dozen random number generators including Beta, Chi-Square, Laplace, Pareto, Poisson and Inverse Gaussian distributions.  A list of random number generato functions can be [found here](https://docs.scipy.org/doc/numpy-1.13.0/reference/routines.random.html)"
   ]
  },
  {
   "cell_type": "markdown",
   "metadata": {},
   "source": [
    "## NumPy Exercises\n",
    "Try your hand at the following:"
   ]
  },
  {
   "cell_type": "code",
   "execution_count": null,
   "metadata": {
    "collapsed": true
   },
   "outputs": [],
   "source": [
    "# run me!  Make sure that answerCheck.py lives in the same directory as this jupyter notebook\n",
    "import numpy as np\n",
    "from answerCheck import *"
   ]
  },
  {
   "cell_type": "code",
   "execution_count": null,
   "metadata": {},
   "outputs": [],
   "source": [
    "# Question 1\n",
    "# create a 3x3x3 array of values from a random normal distribution\n",
    "\n",
    "answer = \n",
    "\n",
    "###################################################################\n",
    "numpyQ1(answer)"
   ]
  },
  {
   "cell_type": "code",
   "execution_count": null,
   "metadata": {},
   "outputs": [],
   "source": [
    "# Question 2\n",
    "# Normalize a random 5x5 matrix:\n",
    "# normalization:  (array - min_cell_value) / (max_cell_value - min_cell_value)\n",
    "\n",
    "Z = np.random.randint(low=1,high=20, size=(5,5))\n",
    "\n",
    "# do something here\n",
    "\n",
    "maxZ = \n",
    "\n",
    "minZ = \n",
    "\n",
    "normalZ = \n",
    "\n",
    "\n",
    "############\n",
    "numpyQ2(Z, maxZ, minZ, normalZ)"
   ]
  },
  {
   "cell_type": "code",
   "execution_count": null,
   "metadata": {},
   "outputs": [],
   "source": [
    "# Question 3\n",
    "# return the value c as :  A dot_product (B dot_product transpose(A) )\n",
    "\n",
    "A = np.array([1,2,3])\n",
    "B = np.array([[4,5,6],[6,5,4],[3,2,1]])\n",
    "\n",
    "# do something here\n",
    "\n",
    "answer = \n",
    "\n",
    "##########\n",
    "numpyQ3(A,B,answer)"
   ]
  },
  {
   "cell_type": "markdown",
   "metadata": {},
   "source": [
    "## NumPy Speed Comparison\n",
    "### Optimizing Monte Carlo Simulation Code for Option Pricing\n",
    "\n",
    "\n",
    "### Black-Scholes option pricing formula\n",
    "\n",
    "$$ C(S_t,K,t,T,r,\\sigma) = S_t * N(d_1) - e^{-r(T-t)}*K*N(d) $$\n",
    "\n",
    "$$ N(d) = \\frac{1}{\\sqrt{2\\pi}} \\int_{-\\inf}^d e^{-\\frac{1}{2}x^2}dx$$\n",
    "\n",
    "$$ d_1 = \\frac{\\log{\\frac{S_t}{K}} +(r + \\frac{\\sigma^2}{2})(T-t)}{\\sigma\\sqrt{T-t}}$$\n",
    "\n",
    "$$ d_2 = \\frac{\\log{\\frac{S_t}{K}} +(r - \\frac{\\sigma^2}{2})(T-t)}{\\sigma\\sqrt{T-t}}$$\n",
    "\n",
    "\n",
    "$$S_t = \\text{Price of the underlying at time t} $$\n",
    "$$\\sigma = \\text{Standard deviation of returns} $$\n",
    "$$K = \\text{Strike price of the option}$$\n",
    "$$T = \\text{Maturity date of the option} $$\n",
    "\n",
    "We will be using a Monte Carlo estimator for the value of a European call option:\n",
    "\n",
    "$$C_0 \\approx e^{-rT}\\frac{1}{T}\\sum_I h_T(S_T(i)$$\n",
    "\n",
    "### Pure Python implementation with 500k simulations"
   ]
  },
  {
   "cell_type": "code",
   "execution_count": null,
   "metadata": {},
   "outputs": [],
   "source": [
    "from time import time\n",
    "import math\n",
    "from random import gauss, seed\n",
    "\n",
    "seed(20000)\n",
    "t0 = time()\n",
    "\n",
    "# parameters\n",
    "S0 = 100. # initial value\n",
    "K = 105. # strike price\n",
    "T = 1.0 # maturity\n",
    "r = 0.05 # riskless short rate\n",
    "sigma = 0.2 # volatility\n",
    "M = 50 # number of time steps\n",
    "dt = T / M # length of time interval\n",
    "I = 500000 # number of paths\n",
    "\n",
    "# simulating I paths with M time steps\n",
    "S = []\n",
    "for i in range(I):\n",
    "    path = []\n",
    "    for t in range(M+1):\n",
    "        if t == 0:\n",
    "            path.append(S0)\n",
    "        else:\n",
    "            z = gauss(0.0,1.0)\n",
    "            St = path[t-1] * math.exp((r-0.5 * sigma**2) * dt + sigma * math.sqrt(dt) * z)\n",
    "            \n",
    "            path.append(St)\n",
    "    \n",
    "    S.append(path)\n",
    "    \n",
    "# Calculating the Monte Carlo estimator\n",
    "\n",
    "C0 = math.exp(-r * T) * sum([max(path[-1] - K, 0) for path in S]) / I\n",
    "\n",
    "# Results output\n",
    "timeTaken = time() - t0\n",
    "print(\"European Option Value: %7.3f\" % C0)\n",
    "print(\"Pure Python Time Taken: %7.3f\" % timeTaken)"
   ]
  },
  {
   "cell_type": "markdown",
   "metadata": {},
   "source": [
    "### NumPy Vectorized Python implementation 500k simulations"
   ]
  },
  {
   "cell_type": "code",
   "execution_count": null,
   "metadata": {},
   "outputs": [],
   "source": [
    "import numpy as np\n",
    "\n",
    "np.random.seed(20000)\n",
    "t0 = time()\n",
    "\n",
    "# parameters\n",
    "S0 = 100. # initial value\n",
    "K = 105. # strike price\n",
    "T = 1.0 # maturity\n",
    "r = 0.05 # riskless short rate\n",
    "sigma = 0.2 # volatility\n",
    "M = 50 # number of time steps\n",
    "dt = T / M # length of time interval\n",
    "I = 500000 # number of paths\n",
    "\n",
    "# simulating I paths with M time steps\n",
    "S = np.zeros((M+1, I))\n",
    "S[0] = S0\n",
    "\n",
    "for t in range(1, M+1):\n",
    "    z = np.random.standard_normal(I)\n",
    "    S[t] = S[t-1] * np.exp((r-0.5 * sigma**2) * dt + sigma * math.sqrt(dt) * z)\n",
    "    \n",
    "# Calculating the Monte Carlo estimator\n",
    "C0 = math.exp(-r * T) * np.sum(np.maximum(S[-1] - K, 0)) / I\n",
    "\n",
    "# Results output\n",
    "timeTakenVector = time() - t0\n",
    "print(\"European Option Value: %7.3f\" % C0)\n",
    "print(\"Vectorized Python Time Taken: %7.3f\" % timeTakenVector)\n",
    "\n"
   ]
  },
  {
   "cell_type": "code",
   "execution_count": null,
   "metadata": {},
   "outputs": [],
   "source": [
    "print(\"Pure Python Time Taken: %7.3f\" % timeTaken)\n",
    "print(\"Vectorized Python Time Taken: %7.3f\" % timeTakenVector)\n",
    "\n",
    "multiplier = round(timeTaken / timeTakenVector,2)\n",
    "\n",
    "print(\"This NumPy implementation is %s times faster than the pure Python\" % multiplier)"
   ]
  },
  {
   "cell_type": "markdown",
   "metadata": {},
   "source": [
    "Taking a look under the hood and visualizing the first 15 simulated paths"
   ]
  },
  {
   "cell_type": "code",
   "execution_count": null,
   "metadata": {},
   "outputs": [],
   "source": [
    "import matplotlib.pyplot as plt\n",
    "print(S.shape)\n",
    "plt.plot(S[:,:15])\n",
    "plt.grid(True)\n",
    "plt.xlabel('time step')\n",
    "plt.ylabel('index level')\n",
    "plt.title('Simulated Paths of the Security')\n",
    "plt.show()"
   ]
  },
  {
   "cell_type": "markdown",
   "metadata": {},
   "source": [
    "## Numpy in Machine Learning: Creating a Decision Tree\n",
    "\n",
    "Looking under the hood of a Machine Learning algorithm to see how NumPy is used\n",
    "\n",
    "![alt text](https://cdn-images-1.medium.com/max/800/1*xGsYc6aXehD7lyoLEn-mMA.png)\n",
    "\n",
    "Below is code of a simple decision tree.  The \"Information Gain\" algorithm (how to split the data and create leaf nodes) will just be discovering which input attribute has the highest absolute correlation with the output and then splitting the data on the median of that attribute"
   ]
  },
  {
   "cell_type": "code",
   "execution_count": null,
   "metadata": {
    "collapsed": true
   },
   "outputs": [],
   "source": [
    "\n",
    "def trainDecisionTree(trainX, trainY, leaf_threshold=1):\n",
    "    \n",
    "    if trainX.shape[0] > leaf_threshold: # prevents overfitting\n",
    "        \n",
    "        if np.all(trainY==trainY[0]): # if all the outputs are the same, no point in splitting\n",
    "            return {\"end node\":True, \"value\": trainY[0]}\n",
    "        \n",
    "        else:\n",
    "            # combine trainX and trainY into one matrix\n",
    "            combined = np.hstack( (trainX, np.array([trainY]).T ) )\n",
    "            \n",
    "            #find the trainX column with the highest correlation to the trainY column\n",
    "            corrlist = np.absolute(np.corrcoef(combined.T)[:-1,-1])\n",
    "            \n",
    "            winnerAttribute = np.argmax(corrlist)\n",
    "            \n",
    "            # find the median value in that column\n",
    "            median = np.median(combined[:,winnerAttribute])\n",
    "            \n",
    "            #split the data based off of that median\n",
    "            left_data = combined[ combined[:,winnerAttribute] <= median ]\n",
    "            right_data = combined[ combined[:,winnerAttribute] > median ]\n",
    "            \n",
    "            # Check that the median value isn't all the values.\n",
    "            # If it is, return the mean of all the output values\n",
    "            if left_data.shape[0] == 0 or right_data.shape[0] == 0:\n",
    "                return {\"end node\":True, \"value\": np.mean(trainY)}\n",
    "            \n",
    "            else: # recursively send the split data back into the trainDecisionTree function\n",
    "                return {\n",
    "                        \"end node\": False,\n",
    "                        \"attribute\": winnerAttribute,\n",
    "                        \"median\": median,\n",
    "                        \"left\": trainDecisionTree(left_data[:,:-1], left_data[:,-1], leaf_threshold),\n",
    "                        \"right\": trainDecisionTree(right_data[:,:-1], right_data[:,-1], leaf_threshold)\n",
    "                        }\n",
    "    \n",
    "    else:\n",
    "        mean = np.mean(trainY)\n",
    "        return {\"end node\":True, \"value\":mean}\n",
    "    "
   ]
  },
  {
   "cell_type": "markdown",
   "metadata": {},
   "source": [
    "The above function spits out a hash table/dictionary/nested Indices that acts as our tree.  Below is the code for see how the decision tree classifies new data."
   ]
  },
  {
   "cell_type": "code",
   "execution_count": null,
   "metadata": {
    "collapsed": true
   },
   "outputs": [],
   "source": [
    "def treePrediction(testData, tree):\n",
    "    results = []\n",
    "    for row in testData:\n",
    "        prediction = node_finder(row, tree)\n",
    "        results.append(prediction)\n",
    "    results = np.array(results)\n",
    "    return results\n",
    "\n",
    "def node_finder(row, tree):\n",
    "    if tree['end node'] == False:\n",
    "        if row[tree['attribute']] <= tree['median']:\n",
    "            return node_finder(row, tree['left'])\n",
    "        else:\n",
    "            return node_finder(row, tree['right'])\n",
    "    else:\n",
    "        return tree['value']"
   ]
  },
  {
   "cell_type": "markdown",
   "metadata": {},
   "source": [
    "Using the a dataset about white wine, the Decision Tree will attempt to predict the score assigned to each bottle of white wine by using the 11 numeric characteristics (PH level, alcohol content, etc).  "
   ]
  },
  {
   "cell_type": "code",
   "execution_count": null,
   "metadata": {},
   "outputs": [],
   "source": [
    "import pandas as pd\n",
    "\n",
    "wine_data = pd.read_csv(\"winequality-white.csv\")\n",
    "wine_data = wine_data.values\n",
    "print(wine_data.shape)\n",
    "split = round(wine_data.shape[0] * 0.6)\n",
    "train = wine_data[:split,:]\n",
    "test = wine_data[split:,:]"
   ]
  },
  {
   "cell_type": "code",
   "execution_count": null,
   "metadata": {
    "collapsed": true
   },
   "outputs": [],
   "source": [
    "# now lets create a decision tree\n",
    "treeModel = trainDecisionTree(train[:,:-1], train[:,-1], 50)\n"
   ]
  },
  {
   "cell_type": "code",
   "execution_count": null,
   "metadata": {},
   "outputs": [],
   "source": [
    "import pprint\n",
    "pp = pprint.PrettyPrinter(indent=2)\n",
    "pp.pprint(treeModel)"
   ]
  },
  {
   "cell_type": "code",
   "execution_count": null,
   "metadata": {},
   "outputs": [],
   "source": [
    "predictions = treePrediction(test[:,:-1], treeModel)\n",
    "print(\"predicted scores:\")\n",
    "print(np.round(predictions[:15]))\n",
    "print(\"actual scores\")\n",
    "print(test[:15,-1])\n",
    "print(predictions.shape)\n",
    "print(test.shape)\n"
   ]
  },
  {
   "cell_type": "code",
   "execution_count": null,
   "metadata": {
    "collapsed": true
   },
   "outputs": [],
   "source": []
  }
 ],
 "metadata": {
  "kernelspec": {
   "display_name": "Python [default]",
   "language": "python",
   "name": "python3"
  },
  "language_info": {
   "codemirror_mode": {
    "name": "ipython",
    "version": 3
   },
   "file_extension": ".py",
   "mimetype": "text/x-python",
   "name": "python",
   "nbconvert_exporter": "python",
   "pygments_lexer": "ipython3",
   "version": "3.6.7"
  },
  "varInspector": {
   "cols": {
    "lenName": 16,
    "lenType": 16,
    "lenVar": 40
   },
   "kernels_config": {
    "python": {
     "delete_cmd_postfix": "",
     "delete_cmd_prefix": "del ",
     "library": "var_list.py",
     "varRefreshCmd": "print(var_dic_list())"
    },
    "r": {
     "delete_cmd_postfix": ") ",
     "delete_cmd_prefix": "rm(",
     "library": "var_list.r",
     "varRefreshCmd": "cat(var_dic_list()) "
    }
   },
   "types_to_exclude": [
    "module",
    "function",
    "builtin_function_or_method",
    "instance",
    "_Feature"
   ],
   "window_display": false
  }
 },
 "nbformat": 4,
 "nbformat_minor": 2
}
