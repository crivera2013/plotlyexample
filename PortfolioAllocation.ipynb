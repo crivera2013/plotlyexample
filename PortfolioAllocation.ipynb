{
 "cells": [
  {
   "cell_type": "markdown",
   "metadata": {},
   "source": [
    "# Vanguard Data Analytics Worksheet\n",
    "# Portfollio Asset Allocation Optimization code\n",
    "\n",
    "\n",
    "**Christian Rivera**\n",
    "- Github: https://github.com/crivera2013"
   ]
  },
  {
   "cell_type": "markdown",
   "metadata": {},
   "source": [
    "### Given a list of securities in a portfolio and a time period, find the optimal allocations of stocks to maximize the Sharpe ratio of the portfolio. \n",
    "**Example Portfolio**\n",
    "\n",
    "| NIKE | GOOGLE | JP MORGAN| NVIDIA |\n",
    "|-----|--------|----------|--------|\n",
    "|   25.4%|23.6%|30.4%  |20.6%|\n",
    "\n",
    "\n",
    "\n",
    "#### We are going to build this:"
   ]
  },
  {
   "cell_type": "code",
   "execution_count": null,
   "metadata": {},
   "outputs": [],
   "source": [
    "# run me\n",
    "from PortAllocation import *\n",
    "allocations , cum_return, avg_daily_return, stddev, sharpe_ratio = AllocationSample()"
   ]
  },
  {
   "cell_type": "markdown",
   "metadata": {},
   "source": [
    "\n",
    "### Definitions\n",
    "#### Sharpe Ratio \n",
    "A measure of risk adjusted return. For simplicity, we assume a risk free return of 0 in this exercise. \n",
    "\n",
    "$$\\text{Sharpe Ratio} = \\frac{R_p - R_f}{\\sigma_p} $$ \n",
    "\n",
    "\n",
    "$$ R_p = \\text{expected portfolio return } $$\n",
    "$$ R_f = \\text{risk free rate} $$\n",
    "$$ \\sigma_p = \\text{portfolio standard deviation  }$$\n",
    "\n",
    "#### Volatility \n",
    "Measured as the standard deviation of daily returns.  Portfolio volatility is the square root of the expected portfolio variance.\n",
    "\n",
    "$$ \\sigma_p = \\sqrt{\\sigma_p^2} $$\n",
    "\n",
    "#### Covariance\n",
    "The measure of the directional relationship between the returns on two  assets.  The covariance of asset **i** and asset **j**:\n",
    "\n",
    "$$ \\sigma_{ij} = \\sum(r_i - \\mu_i)(r_j - \\mu_j) $$\n",
    "\n",
    "#### Portfolio Variance\n",
    "For an portfolio consisting of **N** securities has a **N**x**N** covariance matrix and an array of weight allocations **w** (**w<sup>T</sup>** is the transpose of **w**):\n",
    "\n",
    "$$ \\text{Portfolio Variance} = \\sigma_p^2 =  w^T\\Sigma w = w^T\\begin{pmatrix}\n",
    "  \\sigma_{1,1} & \\sigma_{1,2} & \\cdots & \\sigma_{1,n} \\\\\n",
    "  \\sigma_{2,1} & a_{2,2} & \\cdots & \\sigma_{2,n} \\\\\n",
    "  \\vdots  & \\vdots  & \\ddots & \\vdots  \\\\\n",
    "  \\sigma_{m,1} & \\sigma_{m,2} & \\cdots & \\sigma_{m,n} \n",
    " \\end{pmatrix} w $$\n",
    "\n",
    "** 3 asset Portfolio Example:**\n",
    "\n",
    "$$ \\sigma_p^2 = \\begin{bmatrix} 0.3 & 0.4 & 0.3 \\end{bmatrix} \\bullet \\begin{pmatrix}  \\begin{bmatrix} 0.1 & 0.2 & 0.3 \\\\\n",
    "0.4 & 0.5 & 0.4 \\\\ 0.3 & 0.2 & 0.1 \\end{bmatrix} \\bullet \\begin{bmatrix} 0.3 \\\\ 0.4 \\\\ 0.3 \\end{bmatrix} \\end{pmatrix}$$\n",
    "\n",
    "$$ \\sigma_p^2 = \\begin{bmatrix} 0.3 & 0.4 & 0.3 \\end{bmatrix} \\bullet \\begin{bmatrix} 0.2 \\\\ 0.44 \\\\ 0.2 \\end{bmatrix} $$\n",
    "\n",
    "$$ \\sigma_p^2 = 0.296 $$\n",
    "\n",
    "### With all the math notation out of the way,  lets get coding!"
   ]
  },
  {
   "cell_type": "markdown",
   "metadata": {},
   "source": [
    "### Import the packages"
   ]
  },
  {
   "cell_type": "code",
   "execution_count": null,
   "metadata": {},
   "outputs": [],
   "source": [
    "import numpy as np  # that linear algebra package\n",
    "import pandas as pd # columns and rows + general data analysis\n",
    "import datetime as dt # creating datetime variables\n",
    "import matplotlib.pyplot as plt  # visualizations\n",
    "import scipy.optimize as spo  # scientific library with optimizer functions\n"
   ]
  },
  {
   "cell_type": "markdown",
   "metadata": {},
   "source": [
    "### Define a date range you want to use"
   ]
  },
  {
   "cell_type": "code",
   "execution_count": null,
   "metadata": {},
   "outputs": [],
   "source": [
    "# use a the datetime module to create two datetime variables.\n",
    "# a starting date for January 1st 2010 and an end date of January 1st 2011\n",
    "\n",
    "starting_date = \"2009-06-01\"\n",
    "ending_date = \"2010-06-01\"\n",
    "\n",
    "#Don't touch below code\n",
    "###########################\n",
    "print(starting_date)\n",
    "print(type(starting_date))"
   ]
  },
  {
   "cell_type": "code",
   "execution_count": null,
   "metadata": {},
   "outputs": [],
   "source": [
    "# Create a pandas series of dates\n",
    "dates = pd.date_range(starting_date,ending_date)\n",
    "\n",
    "#Don't touch below code\n",
    "###########################\n",
    "print(dates)"
   ]
  },
  {
   "cell_type": "markdown",
   "metadata": {},
   "source": [
    "### Grab data\n",
    "In a Production environment, this would come from a SQL database or from a 3rd party product, but the basic principle is the same"
   ]
  },
  {
   "cell_type": "code",
   "execution_count": null,
   "metadata": {},
   "outputs": [],
   "source": [
    "def get_stock_data(symbols, dates, addSPY=True, colname = 'Adj Close'):\n",
    "    \"\"\"Read stock data (adjusted close) for given symbols from CSV files\"\"\"\n",
    "    \n",
    "    df = pd.DataFrame(index=dates)\n",
    "    if addSPY and 'SPY' not in symbols:\n",
    "        symbols = ['SPY'] + symbols\n",
    "    \n",
    "    for symbol in symbols:\n",
    "        path = \"stocks/{}.csv\".format(str(symbol))\n",
    "        df_temp = pd.read_csv(path, index_col='Date',\n",
    "                              parse_dates=True,\n",
    "                              usecols=['Date',colname], na_values=['nan'])\n",
    "        df_temp = df_temp.rename(columns={colname:symbol})\n",
    "        df = df.join(df_temp)\n",
    "        if symbol =='SPY':\n",
    "            df = df.dropna(subset=['SPY'])\n",
    "    return df\n"
   ]
  },
  {
   "cell_type": "code",
   "execution_count": null,
   "metadata": {},
   "outputs": [],
   "source": [
    "syms = ['NKE','GOOG','JPM', 'NVDA']\n",
    "\n",
    "stocks_all = get_stock_data(syms, dates)\n",
    "stocks_all.head(3)"
   ]
  },
  {
   "cell_type": "code",
   "execution_count": null,
   "metadata": {},
   "outputs": [],
   "source": [
    "# filter out the SPY column\n",
    "\n",
    "stocks = stocks_all[ syms  ]"
   ]
  },
  {
   "cell_type": "code",
   "execution_count": null,
   "metadata": {},
   "outputs": [],
   "source": [
    "# create a 1-D numpy array of evenly distributed allocation weights.  ex: 2 syms = [0.5,0.5] \n",
    "\n",
    "initial_weights = [1 / len(syms)] * len(syms)\n",
    "\n",
    "#Don't touch below code\n",
    "###########################\n",
    "weights = np.array(initial_weights)\n",
    "print(weights)"
   ]
  },
  {
   "cell_type": "code",
   "execution_count": null,
   "metadata": {},
   "outputs": [],
   "source": [
    "# we are going to normalize the returns to zero using natural logarithm\n",
    "# ln( price_today / price_yesterday )\n",
    "# probably want to use \"np.log\" from numpy and something called \"shift\" in pandas.\n",
    "\n",
    "normalized_returns = \n",
    "\n",
    "\n",
    "#Don't touch below code\n",
    "###########################\n",
    "normalized_returns.head(3)"
   ]
  },
  {
   "cell_type": "code",
   "execution_count": null,
   "metadata": {},
   "outputs": [],
   "source": [
    "# find the expected portfolio return given daily (252) calculation\n",
    "\n",
    "exp_port_return = np.sum(normalized_returns.mean() * weights) * 252\n",
    "\n",
    "###########################\n",
    "print(exp_port_return)"
   ]
  },
  {
   "cell_type": "code",
   "execution_count": null,
   "metadata": {},
   "outputs": [],
   "source": [
    "# Find the portfolio variance of the portfolio.  See math equation above for reference.\n",
    "# \"np.dot\" is the function to call the dot product matrix multiplication function\n",
    "# \" dataframe.cov()\" returns the covariance of a given matrix\n",
    "\n",
    "# weights^T dot_product (covariance of normalized returns * 252 trading days dot_product weights)\n",
    "\n",
    "variance = \n",
    "\n",
    "###########################\n",
    "print(variance)"
   ]
  },
  {
   "cell_type": "code",
   "execution_count": null,
   "metadata": {},
   "outputs": [],
   "source": [
    "# Find the portfolio volatility\n",
    "# and volatility is the square root of variance\n",
    "\n",
    "exp_port_vola =\n",
    "\n",
    "###########################\n",
    "print(exp_port_vola)"
   ]
  },
  {
   "cell_type": "code",
   "execution_count": null,
   "metadata": {},
   "outputs": [],
   "source": [
    "# compute the Sharpe ratio with a 0% risk free rate of return\n",
    "\n",
    "sharpe_ratio =\n",
    "\n",
    "###########################\n",
    "print(sharpe_ratio)"
   ]
  },
  {
   "cell_type": "markdown",
   "metadata": {},
   "source": [
    "### Create a function of what you just did\n",
    "Let's wrap everything we did so far into a function called \"Statistics\" that takes an input \"weights\" and spits out the Sharpe Ratio, portfolio return, and portfolio volatility\n",
    "\n"
   ]
  },
  {
   "cell_type": "code",
   "execution_count": null,
   "metadata": {},
   "outputs": [],
   "source": [
    "# \"stocks\" is a global variable the function can pull from the outside.\n",
    "def Statistics(weights):\n",
    "    \n",
    "    weights = np.array(weights)\n",
    "    \n",
    "    normalized_returns = np.log(stocks / stocks.shift(1))\n",
    "    \n",
    "    exp_port_return = np.sum(normalized_returns.mean() * weights) * 252\n",
    "    \n",
    "    variance = np.dot(weights.T, np.dot(normalized_returns.cov() * 252, weights))\n",
    "    \n",
    "    exp_port_vola = np.sqrt(variance)\n",
    "    \n",
    "    sharpe_ratio = exp_port_return / exp_port_vola\n",
    "    \n",
    "    return np.array([exp_port_return, exp_port_vola, sharpe_ratio ])"
   ]
  },
  {
   "cell_type": "markdown",
   "metadata": {},
   "source": [
    "### Now let's implement an optimizer to find the best allocation of weights\n",
    "\n",
    "#### the optimizer we will be using is a minimizer but we want to find the maximum Sharpe Ratio.  How do we do that?"
   ]
  },
  {
   "cell_type": "code",
   "execution_count": null,
   "metadata": {},
   "outputs": [],
   "source": [
    "# create a function for the optimizer to minimize\n",
    "def min_function_sharpe(weights):\n",
    "    return -1 * Statistics(weights)[2]"
   ]
  },
  {
   "cell_type": "code",
   "execution_count": null,
   "metadata": {},
   "outputs": [],
   "source": [
    "# remember we import a scipy module for optimization above\n",
    "import scipy.optimize as spo  # scientific library with optimizer functions\n",
    "# https://docs.scipy.org/doc/scipy/reference/generated/scipy.optimize.minimize.html\n",
    "\n",
    "# we will be using the minimize function that uses the \n",
    "#Sequential Least Squares equation, ('SLSQP') for minimizing\n",
    "\n",
    "# Bounds parameter:  each allocation can only be between 0 and 1\n",
    "bounds = tuple((0,1) for stock in range(len(syms)))\n",
    "\n",
    "# Constraints parameter: the sum of the weights must equal 1\n",
    "constraints = ({ 'type': 'eq', 'fun': lambda w: np.sum(w) - 1})\n",
    "\n",
    "# fill in your \n",
    "opts = spo.minimize(fun = min_function_sharpe,\n",
    "                   x0 = initial_weights,\n",
    "                   method = \"SLSQP\",\n",
    "                   bounds = bounds,\n",
    "                   constraints = constraints)\n",
    "\n",
    "\n",
    "print(opts)\n"
   ]
  },
  {
   "cell_type": "markdown",
   "metadata": {},
   "source": [
    "The optimal allocations are held in the **'x'** key of **\"opts\"**.  Let's attach them to the symbols they represent."
   ]
  },
  {
   "cell_type": "code",
   "execution_count": null,
   "metadata": {},
   "outputs": [],
   "source": [
    "results = dict(zip(syms,opts['x']))\n",
    "print(results)"
   ]
  },
  {
   "cell_type": "code",
   "execution_count": null,
   "metadata": {},
   "outputs": [],
   "source": [
    "# turn that dictionary into a list\n",
    "\n",
    "allocations = list(results.values())"
   ]
  },
  {
   "cell_type": "markdown",
   "metadata": {},
   "source": [
    "## We got all of our data!   Now time for some visualizations with pandas and matplotlib"
   ]
  },
  {
   "cell_type": "code",
   "execution_count": null,
   "metadata": {},
   "outputs": [],
   "source": [
    "%matplotlib inline \n",
    "#the line above enables you to show plots in jupyter without specifically calling matplotlib\n",
    "\n",
    "import pandas as pd # columns and rows + general data analysis\n",
    "\n",
    "\n",
    "prices_SPY = stocks_all['SPY']\n",
    "\n",
    "# normalize around 1\n",
    "prices_norm = stocks / stocks.iloc[0]\n",
    "weighted_norm_returns = (prices_norm * allocations).sum(axis=1)\n",
    "\n",
    "gen_plot = prices_SPY / prices_SPY.iloc[0]\n",
    "\n",
    "portfolio = (weighted_norm_returns).to_frame().join(gen_plot.to_frame())\n",
    "portfolio.columns = ['Portfolio','SPY']\n",
    "\n",
    "portfolio.plot(figsize=(10,6), title='Daily Portfolio Value and SPY')\n",
    "\n"
   ]
  },
  {
   "cell_type": "markdown",
   "metadata": {},
   "source": [
    "## Congrats!  You successfully wrote portfolio optimization code in Python.  Wrapping that code into a function will enable you to explore different portfolio allocations over different time frames"
   ]
  },
  {
   "cell_type": "code",
   "execution_count": null,
   "metadata": {},
   "outputs": [],
   "source": [
    "from PortAllocation import *\n",
    "import datetime as dt\n",
    "startdate = dt.date(2009,1,1)\n",
    "enddate = dt.date(2012,6,1)\n",
    "symbols = ['NVDA','JPM','AAPL']\n",
    "\n",
    "results = optimize_portfolio(sd=startdate, ed=enddate,\n",
    "                             syms=symbols, \n",
    "                             gen_plot=True)"
   ]
  },
  {
   "cell_type": "code",
   "execution_count": null,
   "metadata": {},
   "outputs": [],
   "source": []
  }
 ],
 "metadata": {
  "kernelspec": {
   "display_name": "Python [default]",
   "language": "python",
   "name": "python3"
  },
  "language_info": {
   "codemirror_mode": {
    "name": "ipython",
    "version": 3
   },
   "file_extension": ".py",
   "mimetype": "text/x-python",
   "name": "python",
   "nbconvert_exporter": "python",
   "pygments_lexer": "ipython3",
   "version": "3.6.7"
  },
  "varInspector": {
   "cols": {
    "lenName": 16,
    "lenType": 16,
    "lenVar": 40
   },
   "kernels_config": {
    "python": {
     "delete_cmd_postfix": "",
     "delete_cmd_prefix": "del ",
     "library": "var_list.py",
     "varRefreshCmd": "print(var_dic_list())"
    },
    "r": {
     "delete_cmd_postfix": ") ",
     "delete_cmd_prefix": "rm(",
     "library": "var_list.r",
     "varRefreshCmd": "cat(var_dic_list()) "
    }
   },
   "types_to_exclude": [
    "module",
    "function",
    "builtin_function_or_method",
    "instance",
    "_Feature"
   ],
   "window_display": false
  }
 },
 "nbformat": 4,
 "nbformat_minor": 2
}
